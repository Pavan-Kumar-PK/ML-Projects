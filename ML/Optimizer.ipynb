{
 "cells": [
  {
   "cell_type": "markdown",
   "id": "277885c2",
   "metadata": {},
   "source": [
    "# Backtracking Line Search"
   ]
  },
  {
   "cell_type": "code",
   "execution_count": 10,
   "id": "18ef9d86",
   "metadata": {},
   "outputs": [
    {
     "name": "stdout",
     "output_type": "stream",
     "text": [
      "Optimal point found: [0. 0.]\n"
     ]
    }
   ],
   "source": [
    "import numpy as np\n",
    "\n",
    "def objective_function(x):\n",
    "    \"\"\"Example objective function\"\"\"\n",
    "    return x[0]**2 + 2*x[1]**2 \n",
    "\n",
    "def gradient(x):\n",
    "    \"\"\"Gradient of the objective function\"\"\"\n",
    "    return np.array([2*x[0], 4*x[1]])\n",
    "\n",
    "def backtracking_line_search(f, grad, x, p, alpha=1.0, beta=0.5, c=1e-4):\n",
    "    \"\"\"Backtracking line search with Armijo condition\n",
    "      f: objective function\n",
    "      grad: gradient of the objective function\n",
    "      x: current point\n",
    "      p: descent direction\n",
    "      alpha: initial step size\n",
    "      beta: step size reduction factor\n",
    "      c: Armijo condition parameter\n",
    "    \"\"\"\n",
    "    while f(x + alpha * p) > f(x) + c * alpha * np.dot(grad(x), p):\n",
    "        alpha *= beta\n",
    "    return alpha\n",
    "\n",
    "Alpha=[]\n",
    "position=[]\n",
    "\n",
    "def gradient_descent(f, grad, x0, max_iter=100, tol=1e-6):\n",
    "    \"\"\"Gradient descent with backtracking line search\"\"\"\n",
    "    x = x0.copy()\n",
    "    for _ in range(max_iter):\n",
    "        p = -grad(x)  # Descent direction\n",
    "        alpha = backtracking_line_search(f, grad, x, p)\n",
    "        Alpha.append(alpha)\n",
    "        position.append(x)\n",
    "        x_new = x + alpha * p\n",
    "\n",
    "        if np.linalg.norm(x_new - x) < tol:\n",
    "            break\n",
    "        \n",
    "        x = x_new\n",
    "    return x\n",
    "\n",
    "# Example usage\n",
    "x_initial = np.array([5, 3])  # Initial point\n",
    "result = gradient_descent(objective_function, gradient, x_initial)\n",
    "print(\"Optimal point found:\", result)"
   ]
  },
  {
   "cell_type": "code",
   "execution_count": 11,
   "id": "6260540f",
   "metadata": {},
   "outputs": [
    {
     "data": {
      "text/plain": [
       "[0.5, 0.25, 1.0]"
      ]
     },
     "execution_count": 11,
     "metadata": {},
     "output_type": "execute_result"
    }
   ],
   "source": [
    "Alpha"
   ]
  },
  {
   "cell_type": "code",
   "execution_count": 12,
   "id": "b53b6b73",
   "metadata": {},
   "outputs": [
    {
     "data": {
      "text/plain": [
       "[array([5, 3]), array([ 0., -3.]), array([0., 0.])]"
      ]
     },
     "execution_count": 12,
     "metadata": {},
     "output_type": "execute_result"
    }
   ],
   "source": [
    "position"
   ]
  },
  {
   "cell_type": "markdown",
   "id": "b0bd497e",
   "metadata": {},
   "source": [
    "# Momentum"
   ]
  },
  {
   "cell_type": "code",
   "execution_count": 7,
   "id": "7cb881e7",
   "metadata": {},
   "outputs": [
    {
     "name": "stdout",
     "output_type": "stream",
     "text": [
      "304\n"
     ]
    },
    {
     "data": {
      "image/png": "[encoded data removed]",
      "text/plain": [
       "<Figure size 576x432 with 1 Axes>"
      ]
     },
     "metadata": {
      "needs_background": "light"
     },
     "output_type": "display_data"
    }
   ],
   "source": [
    "import numpy as np\n",
    "import matplotlib.pyplot as plt\n",
    "\n",
    "def objective_function(x, y):\n",
    "    \"\"\"Calculates the value of the objective function\"\"\"\n",
    "    return (x - 2)**4 + x**2 * y**2 + (y + 1)**2\n",
    "\n",
    "def gradient(x, y):\n",
    "    \"\"\"Calculates the gradient of the objective function\"\"\"\n",
    "    dx = 4 * (x - 2)**3 + 2 * x * y**2\n",
    "    dy = 2 * x**2 * y + 2 * (y + 1)\n",
    "    return np.array([dx, dy])\n",
    "\n",
    "def momentum_update(x, y, grad, v, gamma=0.9, alpha=0.01):\n",
    "    \"\"\"Implements the momentum update rule\"\"\"\n",
    "    v = gamma * v + alpha * grad\n",
    "    x = x - v[0]\n",
    "    y = y - v[1]\n",
    "    return x, y, v\n",
    "\n",
    "# Set initial values\n",
    "x_initial = -3\n",
    "y_initial = 2\n",
    "v_initial = np.array([0, 0])  # Initial momentum\n",
    "max_iter = 1000\n",
    "gamma = 0.5\n",
    "alpha = 0.01\n",
    "tolerance = 1e-03\n",
    "\n",
    "# Optimization loop\n",
    "x = x_initial\n",
    "y = y_initial\n",
    "v = v_initial.copy()\n",
    "trajectory = [(x, y)]  # Store trajectory as tuples\n",
    "i = 0\n",
    "for _ in range(max_iter):\n",
    "    grad_x, grad_y = gradient(x, y)\n",
    "    x, y, v = momentum_update(x, y, np.array([grad_x, grad_y]), v, gamma, alpha)\n",
    "    trajectory.append((x, y))\n",
    "    \n",
    "    i = i+1\n",
    "    # Check for convergence based on gradient magnitude\n",
    "    if np.linalg.norm(np.array([grad_x, grad_y])) < tolerance:\n",
    "        break \n",
    "print(i)\n",
    "# Visualization\n",
    "trajectory = np.array(trajectory)\n",
    "X, Y = np.meshgrid(np.arange(-5, 10, 0.2), np.arange(-6, 5, 0.2))\n",
    "Z = objective_function(X, Y)\n",
    "\n",
    "plt.figure(figsize=(8, 6))\n",
    "plt.contourf(X, Y, Z, cmap='viridis')\n",
    "plt.plot(trajectory[:, 0], trajectory[:, 1], '-o', color='red', label='Momentum')\n",
    "plt.legend()\n",
    "plt.title(\"Optimization Path with Momentum\")\n",
    "plt.show()\n"
   ]
  },
  {
   "cell_type": "markdown",
   "id": "0d44f403",
   "metadata": {},
   "source": [
    "#### what is the problem here?"
   ]
  },
  {
   "cell_type": "code",
   "execution_count": 73,
   "id": "cfcf025d",
   "metadata": {},
   "outputs": [],
   "source": [
    "# solution here"
   ]
  },
  {
   "cell_type": "markdown",
   "id": "8542a680",
   "metadata": {},
   "source": [
    "# Nesterov Momentum"
   ]
  },
  {
   "cell_type": "code",
   "execution_count": 6,
   "id": "bcc62208",
   "metadata": {},
   "outputs": [
    {
     "name": "stdout",
     "output_type": "stream",
     "text": [
      "192\n"
     ]
    },
    {
     "data": {
      "image/png": "[encoded data removed]",
      "text/plain": [
       "<Figure size 576x432 with 1 Axes>"
      ]
     },
     "metadata": {
      "needs_background": "light"
     },
     "output_type": "display_data"
    }
   ],
   "source": [
    "import numpy as np\n",
    "import matplotlib.pyplot as plt\n",
    "\n",
    "def objective_function(x, y):\n",
    "    \"\"\"Calculates the value of the objective function\"\"\"\n",
    "    return (x - 2)**4 + x**2 * y**2 + (y + 1)**2\n",
    "\n",
    "def gradient(x, y):\n",
    "    \"\"\"Calculates the gradient of the objective function\"\"\"\n",
    "    dx = 4 * (x - 2)**3 + 2 * x * y**2\n",
    "    dy = 2 * x**2 * y + 2 * (y + 1)\n",
    "    return np.array([dx, dy])\n",
    "\n",
    "def nesterov_update(x, y, grad, v, gamma=0.9, alpha=0.01):\n",
    "    \"\"\"Implements the Nesterov Accelerated Gradient update rule\"\"\"\n",
    "    ahead_x = x + gamma * v[0]  # Look-ahead for x\n",
    "    ahead_y = y + gamma * v[1]  # Look-ahead for y\n",
    "    new_grad = gradient(ahead_x, ahead_y)  # Gradient at look-ahead point\n",
    "    v = gamma * v + alpha * new_grad \n",
    "    x = x - v[0]\n",
    "    y = y - v[1]\n",
    "    return x, y, v\n",
    "\n",
    "# Set initial values, parameters, and tolerance\n",
    "x_initial = -3\n",
    "y_initial = 2\n",
    "v_initial = np.array([0, 0])  \n",
    "max_iter = 1000\n",
    "gamma = 0.5 \n",
    "alpha = 0.01\n",
    "tolerance = 1e-3 \n",
    "\n",
    "# Optimization loop\n",
    "x = x_initial\n",
    "y = y_initial\n",
    "v = v_initial.copy()\n",
    "trajectory = [(x, y)]  \n",
    "i = 0\n",
    "for _ in range(max_iter):\n",
    "    grad_x, grad_y = gradient(x, y)\n",
    "    x, y, v = nesterov_update(x, y, np.array([grad_x, grad_y]), v, gamma, alpha)\n",
    "    trajectory.append((x, y))\n",
    "    i = i+1\n",
    "    # Check for convergence based on gradient magnitude\n",
    "    if np.linalg.norm(np.array([grad_x, grad_y])) < tolerance:\n",
    "        break  \n",
    "    \n",
    "# Visualization\n",
    "trajectory = np.array(trajectory)\n",
    "X, Y = np.meshgrid(np.arange(-5, 10, 0.2), np.arange(-6, 5, 0.2))\n",
    "Z = objective_function(X, Y)\n",
    "print(i)\n",
    "\n",
    "plt.figure(figsize=(8, 6))\n",
    "plt.contourf(X, Y, Z, cmap='viridis')\n",
    "plt.plot(trajectory[:, 0], trajectory[:, 1], '-o', color='red', label='Momentum')\n",
    "plt.legend()\n",
    "plt.title(\"Optimization Path with Nesterov Momentum\")\n",
    "plt.show()\n"
   ]
  },
  {
   "cell_type": "markdown",
   "id": "d3af8ae9",
   "metadata": {},
   "source": [
    "# ADAGRAD"
   ]
  },
  {
   "cell_type": "code",
   "execution_count": 9,
   "id": "f92769f6",
   "metadata": {},
   "outputs": [
    {
     "name": "stdout",
     "output_type": "stream",
     "text": [
      "1000\n"
     ]
    },
    {
     "data": {
      "image/png": "[encoded data removed]",
      "text/plain": [
       "<Figure size 576x432 with 1 Axes>"
      ]
     },
     "metadata": {
      "needs_background": "light"
     },
     "output_type": "display_data"
    }
   ],
   "source": [
    "import numpy as np\n",
    "import matplotlib.pyplot as plt\n",
    "\n",
    "def objective_function(x, y):\n",
    "    \"\"\"Calculates the value of the objective function\"\"\"\n",
    "    return (x - 2)**4 + x**2 * y**2 + (y + 1)**2\n",
    "\n",
    "def gradient(x, y):\n",
    "    \"\"\"Calculates the gradient of the objective function\"\"\"\n",
    "    dx = 4 * (x - 2)**3 + 2 * x * y**2\n",
    "    dy = 2 * x**2 * y + 2 * (y + 1)\n",
    "    return np.array([dx, dy])\n",
    "\n",
    "def adagrad_update(x, y, grad, G, epsilon=1e-8, alpha=0.01):\n",
    "    \"\"\"Implements the Adagrad update rule\"\"\"\n",
    "    G[0] += grad[0] ** 2  # Accumulate squared gradient for x\n",
    "    G[1] += grad[1] ** 2  # Accumulate squared gradient for y\n",
    "\n",
    "    # Adaptive learning rate \n",
    "    adjusted_grad = grad / (np.sqrt(G + epsilon))\n",
    "\n",
    "    x = x - alpha * adjusted_grad[0]\n",
    "    y = y - alpha * adjusted_grad[1]\n",
    "    return x, y, G\n",
    "\n",
    "# Set initial values, parameters, and tolerance\n",
    "x_initial = -3\n",
    "y_initial = 2\n",
    "G_initial = np.zeros(2)  # Initialize accumulated gradients\n",
    "max_iter = 1000\n",
    "epsilon = 1e-8  # Smoothing term to avoid division by zero\n",
    "alpha = 0.01  # Learning rate\n",
    "tolerance = 0.001\n",
    "\n",
    "# Optimization loop\n",
    "x = x_initial\n",
    "y = y_initial\n",
    "G = G_initial.copy()  \n",
    "trajectory = [(x, y)]  \n",
    "i = 0\n",
    "for _ in range(max_iter):\n",
    "    grad_x, grad_y = gradient(x, y)\n",
    "    x, y, G = adagrad_update(x, y, np.array([grad_x, grad_y]), G, epsilon, alpha)\n",
    "    trajectory.append((x, y))\n",
    "    i = i+1\n",
    "    # Check for convergence based on gradient magnitude\n",
    "    if np.linalg.norm(np.array([grad_x, grad_y])) < tolerance:\n",
    "        break  \n",
    "    \n",
    "# Visualization\n",
    "trajectory = np.array(trajectory)\n",
    "X, Y = np.meshgrid(np.arange(-5, 10, 0.2), np.arange(-6, 5, 0.2))\n",
    "Z = objective_function(X, Y)\n",
    "print(i)\n",
    "\n",
    "plt.figure(figsize=(8, 6))\n",
    "plt.contourf(X, Y, Z, cmap='viridis')\n",
    "plt.plot(trajectory[:, 0], trajectory[:, 1], '-o', color='red', label='Momentum')\n",
    "plt.legend()\n",
    "plt.title(\"Optimization Path with Nesterov Momentum\")\n",
    "plt.show()"
   ]
  },
  {
   "cell_type": "markdown",
   "id": "40aed1ef",
   "metadata": {},
   "source": [
    "# RMSPROP"
   ]
  },
  {
   "cell_type": "code",
   "execution_count": 10,
   "id": "a6f7cf4a",
   "metadata": {},
   "outputs": [
    {
     "name": "stdout",
     "output_type": "stream",
     "text": [
      "1000\n"
     ]
    },
    {
     "data": {
      "image/png": "[encoded data removed]",
      "text/plain": [
       "<Figure size 576x432 with 1 Axes>"
      ]
     },
     "metadata": {
      "needs_background": "light"
     },
     "output_type": "display_data"
    }
   ],
   "source": [
    "import numpy as np\n",
    "import matplotlib.pyplot as plt\n",
    "\n",
    "def objective_function(x, y):\n",
    "    \"\"\"Calculates the value of the objective function\"\"\"\n",
    "    return (x - 2)**4 + x**2 * y**2 + (y + 1)**2\n",
    "\n",
    "def gradient(x, y):\n",
    "    \"\"\"Calculates the gradient of the objective function\"\"\"\n",
    "    dx = 4 * (x - 2)**3 + 2 * x * y**2\n",
    "    dy = 2 * x**2 * y + 2 * (y + 1)\n",
    "    return np.array([dx, dy])\n",
    "\n",
    "def rmsprop_update(x, y, grad, G, beta=0.9, epsilon=1e-8, alpha=0.01):\n",
    "    \"\"\"Implements the RMSprop update rule\"\"\"\n",
    "    G[0] = beta * G[0] + (1 - beta) * grad[0] ** 2  # Update moving average for  x\n",
    "    G[1] = beta * G[1] + (1 - beta) * grad[1] ** 2  # Update moving average for  y\n",
    "\n",
    "    # Adaptive learning rate with bias correction for early iterations\n",
    "    adjusted_grad = grad / (np.sqrt(G + epsilon))\n",
    "\n",
    "    x = x - alpha * adjusted_grad[0]\n",
    "    y = y - alpha * adjusted_grad[1]\n",
    "    return x, y, G\n",
    "\n",
    "# Set initial values, parameters, and tolerance\n",
    "x_initial = -3\n",
    "y_initial = 2\n",
    "G_initial = np.zeros(2)  \n",
    "max_iter = 1000\n",
    "beta = 0.1  # Typical value for RMSprop\n",
    "epsilon = 1e-8  \n",
    "alpha = 0.01  # Adjust as needed \n",
    "\n",
    "# Optimization loop\n",
    "x = x_initial\n",
    "y = y_initial\n",
    "G = G_initial.copy()  \n",
    "trajectory = [(x, y)]  \n",
    "i = 0\n",
    "\n",
    "for _ in range(max_iter):\n",
    "    grad_x, grad_y = gradient(x, y)\n",
    "    x, y, G = rmsprop_update(x, y, np.array([grad_x, grad_y]), G, beta, epsilon, alpha)\n",
    "    trajectory.append((x, y))\n",
    "    i = i+1\n",
    "    # Check for convergence based on gradient magnitude\n",
    "    if np.linalg.norm(np.array([grad_x, grad_y])) < tolerance:\n",
    "        break  \n",
    "    \n",
    "# Visualization\n",
    "trajectory = np.array(trajectory)\n",
    "X, Y = np.meshgrid(np.arange(-5, 10, 0.2), np.arange(-6, 5, 0.2))\n",
    "Z = objective_function(X, Y)\n",
    "print(i)\n",
    "\n",
    "plt.figure(figsize=(8, 6))\n",
    "plt.contourf(X, Y, Z, cmap='viridis')\n",
    "plt.plot(trajectory[:, 0], trajectory[:, 1], '-o', color='red', label='Momentum')\n",
    "plt.legend()\n",
    "plt.title(\"Optimization Path with Nesterov Momentum\")\n",
    "plt.show()"
   ]
  },
  {
   "cell_type": "code",
   "execution_count": 91,
   "id": "0c818067",
   "metadata": {},
   "outputs": [
    {
     "data": {
      "text/plain": [
       "array([[-3.        ,  2.        ],\n",
       "       [-1.94590745,  0.94590745],\n",
       "       [-1.06811194,  0.27155093],\n",
       "       ...,\n",
       "       [ 1.22724722,  0.46778548],\n",
       "       [ 2.22724722, -0.53221452],\n",
       "       [ 1.22724722,  0.46778548]])"
      ]
     },
     "execution_count": 91,
     "metadata": {},
     "output_type": "execute_result"
    }
   ],
   "source": [
    "trajectory"
   ]
  },
  {
   "cell_type": "markdown",
   "id": "f40ee122",
   "metadata": {},
   "source": [
    "# ADAM"
   ]
  },
  {
   "cell_type": "code",
   "execution_count": 98,
   "id": "a12631b7",
   "metadata": {},
   "outputs": [
    {
     "name": "stdout",
     "output_type": "stream",
     "text": [
      "175\n"
     ]
    },
    {
     "data": {
      "image/png": "[encoded data removed]",
      "text/plain": [
       "<Figure size 576x432 with 1 Axes>"
      ]
     },
     "metadata": {
      "needs_background": "light"
     },
     "output_type": "display_data"
    }
   ],
   "source": [
    "import numpy as np\n",
    "import matplotlib.pyplot as plt\n",
    "\n",
    "def objective_function(x, y):\n",
    "    \"\"\"Calculates the value of the objective function\"\"\"\n",
    "    return (x - 2)**4 + x**2 * y**2 + (y + 1)**2\n",
    "\n",
    "def gradient(x, y):\n",
    "    \"\"\"Calculates the gradient of the objective function\"\"\"\n",
    "    dx = 4 * (x - 2)**3 + 2 * x * y**2\n",
    "    dy = 2 * x**2 * y + 2 * (y + 1)\n",
    "    return np.array([dx, dy])\n",
    "\n",
    "def adam_update(x, y, grad, m, v, beta1=0.9, beta2=0.999, epsilon=1e-8, alpha=0.001, t=1):\n",
    "    \"\"\"Implements the Adam update rule\"\"\"\n",
    "    m[0] = beta1 * m[0] + (1 - beta1) * grad[0]  # Update biased 1st moment estimate for x\n",
    "    m[1] = beta1 * m[1] + (1 - beta1) * grad[1]  # Update biased 1st moment estimate for y\n",
    "    v[0] = beta2 * v[0] + (1 - beta2) * grad[0] ** 2  # Update biased 2nd moment estimate for x\n",
    "    v[1] = beta2 * v[1] + (1 - beta2) * grad[1] ** 2  # Update biased 2nd moment estimate for y\n",
    "\n",
    "    # Bias correction for the moving average estimates\n",
    "    m_hat = m / (1 - beta1**t)\n",
    "    v_hat = v / (1 - beta2**t)\n",
    "\n",
    "    x = x - alpha * m_hat[0] / (np.sqrt(v_hat[0]) + epsilon)\n",
    "    y = y - alpha * m_hat[1] / (np.sqrt(v_hat[1]) + epsilon)\n",
    "    return x, y, m, v, t + 1\n",
    "\n",
    "# Set initial values, parameters, and tolerance\n",
    "x_initial = -3\n",
    "y_initial = 2\n",
    "m_initial = np.zeros(2)  # Initialize 1st moment vector \n",
    "v_initial = np.zeros(2)  # Initialize 2nd moment vector\n",
    "max_iter = 1000\n",
    "beta1 = 0.9\n",
    "beta2 = 0.999\n",
    "epsilon = 1e-8 \n",
    "alpha = 1 \n",
    "\n",
    "# Optimization loop\n",
    "x = x_initial\n",
    "y = y_initial\n",
    "m = m_initial.copy()\n",
    "v = v_initial.copy()\n",
    "t = 1  # Timestep counter\n",
    "trajectory = [(x, y)]  \n",
    "i = 0\n",
    "for _ in range(max_iter):\n",
    "    grad_x, grad_y = gradient(x, y)\n",
    "    x, y, m, v, t = adam_update(x, y, np.array([grad_x, grad_y]), m, v, beta1, beta2, epsilon, alpha, t)\n",
    "    trajectory.append((x, y))\n",
    "    i = i+1\n",
    "    # Check for convergence based on gradient magnitude\n",
    "    if np.linalg.norm(np.array([grad_x, grad_y])) < tolerance:\n",
    "        break  \n",
    "    \n",
    "# Visualization\n",
    "trajectory = np.array(trajectory)\n",
    "X, Y = np.meshgrid(np.arange(-5, 10, 0.2), np.arange(-6, 5, 0.2))\n",
    "Z = objective_function(X, Y)\n",
    "print(i)\n",
    "\n",
    "plt.figure(figsize=(8, 6))\n",
    "plt.contourf(X, Y, Z, cmap='viridis')\n",
    "plt.plot(trajectory[:, 0], trajectory[:, 1], '-o', color='red', label='Momentum')\n",
    "plt.legend()\n",
    "plt.title(\"Optimization Path with Nesterov Momentum\")\n",
    "plt.show()"
   ]
  },
  {
   "cell_type": "code",
   "execution_count": 99,
   "id": "e57a61ac",
   "metadata": {},
   "outputs": [
    {
     "data": {
      "text/plain": [
       "array([[-3.        ,  2.        ],\n",
       "       [-2.        ,  1.        ],\n",
       "       [-1.0689435 ,  0.1512226 ],\n",
       "       [-0.238904  , -0.54237277],\n",
       "       [ 0.48290052, -1.12176206],\n",
       "       [ 1.10450201, -1.6018302 ],\n",
       "       [ 1.63779016, -1.95207535],\n",
       "       [ 2.09298006, -2.1092173 ],\n",
       "       [ 2.47858268, -2.03059207],\n",
       "       [ 2.80358217, -1.73714846],\n",
       "       [ 3.07806529, -1.28473142],\n",
       "       [ 3.31171055, -0.73153367],\n",
       "       [ 3.51159295, -0.13995841],\n",
       "       [ 3.68045788,  0.40509235],\n",
       "       [ 3.8165511 ,  0.79488155],\n",
       "       [ 3.91610878,  0.95464153],\n",
       "       [ 3.97729021,  0.89199636],\n",
       "       [ 4.00200287,  0.66173651],\n",
       "       [ 3.99486303,  0.32806087],\n",
       "       [ 3.9610941 , -0.04286671],\n",
       "       [ 3.9049359 , -0.38328194],\n",
       "       [ 3.82934275, -0.63391907],\n",
       "       [ 3.73686149, -0.76102082],\n",
       "       [ 3.6307119 , -0.76256036],\n",
       "       [ 3.51510785, -0.65940423],\n",
       "       [ 3.39472952, -0.48344556],\n",
       "       [ 3.27387221, -0.26973922],\n",
       "       [ 3.15579228, -0.05177466],\n",
       "       [ 3.04249196,  0.1420598 ],\n",
       "       [ 2.93491074,  0.29117792],\n",
       "       [ 2.83332834,  0.3840739 ],\n",
       "       [ 2.737761  ,  0.41788915],\n",
       "       [ 2.64821249,  0.39672249],\n",
       "       [ 2.56475089,  0.32946661],\n",
       "       [ 2.48745995,  0.22776273],\n",
       "       [ 2.41634078,  0.1043239 ],\n",
       "       [ 2.35122827, -0.02834975],\n",
       "       [ 2.29175808, -0.15891901],\n",
       "       [ 2.23739083, -0.27787059],\n",
       "       [ 2.18747991, -0.37793163],\n",
       "       [ 2.14135853, -0.45425463],\n",
       "       [ 2.09842204, -0.50439599],\n",
       "       [ 2.05818678, -0.52812212],\n",
       "       [ 2.020317  , -0.52708744],\n",
       "       [ 1.98462006, -0.50443266],\n",
       "       [ 1.9510179 , -0.4643493 ],\n",
       "       [ 1.91950572, -0.41164814],\n",
       "       [ 1.89010939, -0.35135974],\n",
       "       [ 1.86285014, -0.28838576],\n",
       "       [ 1.83772147, -0.22721218],\n",
       "       [ 1.81467932, -0.17168974],\n",
       "       [ 1.79364326, -0.12488262],\n",
       "       [ 1.77450512, -0.08898283],\n",
       "       [ 1.75714047, -0.06528537],\n",
       "       [ 1.74141947, -0.05421659],\n",
       "       [ 1.7272144 , -0.05540731],\n",
       "       [ 1.71440307, -0.06780061],\n",
       "       [ 1.70286828, -0.08978448],\n",
       "       [ 1.69249482, -0.11933955],\n",
       "       [ 1.68316567, -0.15419293],\n",
       "       [ 1.6747592 , -0.19196996],\n",
       "       [ 1.66714853, -0.23033712],\n",
       "       [ 1.66020372, -0.26712981],\n",
       "       [ 1.65379638, -0.30046023],\n",
       "       [ 1.64780616, -0.32880122],\n",
       "       [ 1.64212761, -0.35104352],\n",
       "       [ 1.6366763 , -0.36652488],\n",
       "       [ 1.63139302, -0.37503131],\n",
       "       [ 1.62624531, -0.3767721 ],\n",
       "       [ 1.62122627, -0.37233196],\n",
       "       [ 1.61635075, -0.36260485],\n",
       "       [ 1.61164989, -0.34871478],\n",
       "       [ 1.60716466, -0.33192954],\n",
       "       [ 1.6029395 , -0.31357317],\n",
       "       [ 1.59901672, -0.29494252],\n",
       "       [ 1.59543224, -0.27723256],\n",
       "       [ 1.59221273, -0.26147398],\n",
       "       [ 1.58937423, -0.24848594],\n",
       "       [ 1.58692187, -0.23884509],\n",
       "       [ 1.58485043, -0.23287159],\n",
       "       [ 1.58314537, -0.23063137],\n",
       "       [ 1.581784  , -0.23195329],\n",
       "       [ 1.58073683, -0.23645906],\n",
       "       [ 1.57996883, -0.24360316],\n",
       "       [ 1.5794408 , -0.25271981],\n",
       "       [ 1.57911087, -0.26307376],\n",
       "       [ 1.57893616, -0.27391148],\n",
       "       [ 1.57887459, -0.28450995],\n",
       "       [ 1.57888681, -0.29421987],\n",
       "       [ 1.57893808, -0.30250137],\n",
       "       [ 1.57899985, -0.30895013],\n",
       "       [ 1.57905102, -0.31331305],\n",
       "       [ 1.57907856, -0.31549295],\n",
       "       [ 1.57907746, -0.31554292],\n",
       "       [ 1.57905014, -0.31365099],\n",
       "       [ 1.57900521, -0.31011721],\n",
       "       [ 1.5789559 , -0.30532479],\n",
       "       [ 1.5789182 , -0.29970798],\n",
       "       [ 1.57890908, -0.29371877],\n",
       "       [ 1.57894481, -0.28779508],\n",
       "       [ 1.57903953, -0.28233217],\n",
       "       [ 1.57920424, -0.27765925],\n",
       "       [ 1.57944611, -0.2740223 ],\n",
       "       [ 1.57976814, -0.27157395],\n",
       "       [ 1.5801692 , -0.27037048],\n",
       "       [ 1.58064429, -0.27037578],\n",
       "       [ 1.581185  , -0.27147139],\n",
       "       [ 1.58178019, -0.2734715 ],\n",
       "       [ 1.58241676, -0.27614155],\n",
       "       [ 1.58308049, -0.27921894],\n",
       "       [ 1.58375697, -0.28243406],\n",
       "       [ 1.58443244, -0.28553034],\n",
       "       [ 1.58509461, -0.2882818 ],\n",
       "       [ 1.58573332, -0.29050711],\n",
       "       [ 1.58634104, -0.29207926],\n",
       "       [ 1.58691314, -0.29293059],\n",
       "       [ 1.58744791, -0.29305299],\n",
       "       [ 1.58794642, -0.29249368],\n",
       "       [ 1.58841206, -0.29134715],\n",
       "       [ 1.58885009, -0.28974419],\n",
       "       [ 1.58926692, -0.28783901],\n",
       "       [ 1.58966946, -0.28579562],\n",
       "       [ 1.59006453, -0.28377446],\n",
       "       [ 1.59045821, -0.28192039],\n",
       "       [ 1.59085548, -0.28035288],\n",
       "       [ 1.59125982, -0.27915879],\n",
       "       [ 1.59167314, -0.27838841],\n",
       "       [ 1.59209565, -0.27805456],\n",
       "       [ 1.59252607, -0.27813471],\n",
       "       [ 1.59296175, -0.27857575],\n",
       "       [ 1.59339906, -0.27930072],\n",
       "       [ 1.59383367, -0.28021698],\n",
       "       [ 1.594261  , -0.28122492],\n",
       "       [ 1.59467655, -0.28222655],\n",
       "       [ 1.59507627, -0.28313331],\n",
       "       [ 1.59545688, -0.28387242],\n",
       "       [ 1.59581603, -0.28439148],\n",
       "       [ 1.59615243, -0.28466109],\n",
       "       [ 1.59646593, -0.28467526],\n",
       "       [ 1.59675738, -0.28444994],\n",
       "       [ 1.59702852, -0.28401984],\n",
       "       [ 1.59728174, -0.28343392],\n",
       "       [ 1.59751989, -0.28275007],\n",
       "       [ 1.59774593, -0.28202951],\n",
       "       [ 1.59796277, -0.28133131],\n",
       "       [ 1.59817298, -0.28070758],\n",
       "       [ 1.59837866, -0.28019962],\n",
       "       [ 1.59858127, -0.27983536],\n",
       "       [ 1.59878166, -0.27962807],\n",
       "       [ 1.59898   , -0.27957649],\n",
       "       [ 1.59917587, -0.2796662 ],\n",
       "       [ 1.59936837, -0.27987198],\n",
       "       [ 1.59955626, -0.28016096],\n",
       "       [ 1.59973812, -0.28049611],\n",
       "       [ 1.59991249, -0.28083985],\n",
       "       [ 1.60007804, -0.28115744],\n",
       "       [ 1.6002337 , -0.28141971],\n",
       "       [ 1.60037875, -0.28160526],\n",
       "       [ 1.60051285, -0.28170159],\n",
       "       [ 1.6006361 , -0.28170549],\n",
       "       [ 1.60074899, -0.2816225 ],\n",
       "       [ 1.60085235, -0.28146563],\n",
       "       [ 1.60094725, -0.28125355],\n",
       "       [ 1.60103492, -0.28100838],\n",
       "       [ 1.60111664, -0.28075338],\n",
       "       [ 1.60119363, -0.28051073],\n",
       "       [ 1.60126697, -0.28029956],\n",
       "       [ 1.60133754, -0.28013451],\n",
       "       [ 1.60140593, -0.28002471],\n",
       "       [ 1.60147252, -0.27997348],\n",
       "       [ 1.60153738, -0.27997846],\n",
       "       [ 1.60160037, -0.28003239],\n",
       "       [ 1.60166119, -0.28012418],\n",
       "       [ 1.60171939, -0.28024026],\n",
       "       [ 1.6017745 , -0.28036615],\n",
       "       [ 1.60182606, -0.28048781]])"
      ]
     },
     "execution_count": 99,
     "metadata": {},
     "output_type": "execute_result"
    }
   ],
   "source": [
    "trajectory"
   ]
  },
  {
   "cell_type": "markdown",
   "id": "c678b67f",
   "metadata": {},
   "source": [
    "# Covariance Matrix"
   ]
  },
  {
   "cell_type": "code",
   "execution_count": null,
   "id": "5c48f517",
   "metadata": {},
   "outputs": [],
   "source": []
  },
  {
   "cell_type": "code",
   "execution_count": null,
   "id": "81deefcb",
   "metadata": {},
   "outputs": [],
   "source": []
  },
  {
   "cell_type": "code",
   "execution_count": null,
   "id": "28560fc9",
   "metadata": {},
   "outputs": [],
   "source": []
  }
 ],
 "metadata": {
  "kernelspec": {
   "display_name": "Python 3 (ipykernel)",
   "language": "python",
   "name": "python3"
  },
  "language_info": {
   "codemirror_mode": {
    "name": "ipython",
    "version": 3
   },
   "file_extension": ".py",
   "mimetype": "text/x-python",
   "name": "python",
   "nbconvert_exporter": "python",
   "pygments_lexer": "ipython3",
   "version": "3.10.12"
  }
 },
 "nbformat": 4,
 "nbformat_minor": 5
}
